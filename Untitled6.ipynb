{
  "nbformat": 4,
  "nbformat_minor": 0,
  "metadata": {
    "colab": {
      "name": "Untitled6.ipynb",
      "provenance": [],
      "authorship_tag": "ABX9TyOKdcRwAmxiy1Nuwrx5I6w8",
      "include_colab_link": true
    },
    "kernelspec": {
      "name": "python3",
      "display_name": "Python 3"
    },
    "language_info": {
      "name": "python"
    }
  },
  "cells": [
    {
      "cell_type": "markdown",
      "metadata": {
        "id": "view-in-github",
        "colab_type": "text"
      },
      "source": [
        "<a href=\"https://colab.research.google.com/github/jmisrikhanov/Assignment-008-4-Is-it-a-Prime-Number-/blob/main/Untitled6.ipynb\" target=\"_parent\"><img src=\"https://colab.research.google.com/assets/colab-badge.svg\" alt=\"Open In Colab\"/></a>"
      ]
    },
    {
      "cell_type": "code",
      "metadata": {
        "colab": {
          "base_uri": "https://localhost:8080/"
        },
        "id": "7g7KjR0ZEGQ-",
        "outputId": "d0f91dbc-c4f3-4e47-ccdf-c648716029e8"
      },
      "source": [
        "number = int(input(\"Enter a number: \"))\n",
        "\n",
        "if number > 1:\n",
        "   for i in range(2,number):\n",
        "       if (number % i) == 0:\n",
        "           print(number,\"is not a prime number\")\n",
        "           break\n",
        "   else:\n",
        "       print(number,\"is a prime number\")\n",
        "\n",
        "else:\n",
        "   print(number,\"is not a prime number\")"
      ],
      "execution_count": 6,
      "outputs": [
        {
          "output_type": "stream",
          "text": [
            "Enter a number: 2\n",
            "2 is a prime number\n"
          ],
          "name": "stdout"
        }
      ]
    },
    {
      "cell_type": "code",
      "metadata": {
        "id": "TnD2edOLELR_"
      },
      "source": [
        ""
      ],
      "execution_count": null,
      "outputs": []
    }
  ]
}